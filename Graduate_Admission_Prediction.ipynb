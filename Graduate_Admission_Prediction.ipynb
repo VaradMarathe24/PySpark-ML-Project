{
  "cells": [
    {
      "cell_type": "code",
      "execution_count": null,
      "metadata": {
        "id": "pnCC44JALIrF"
      },
      "outputs": [],
      "source": [
        "from pyspark.sql import SparkSession\n",
        "spark=SparkSession.builder.appName(\"spark\").getOrCreate()"
      ]
    },
    {
      "cell_type": "code",
      "execution_count": null,
      "metadata": {
        "colab": {
          "base_uri": "https://localhost:8080/"
        },
        "id": "hwuleck4NgNa",
        "outputId": "26c7547c-56fa-4806-fd85-e207bbccd5ea"
      },
      "outputs": [
        {
          "output_type": "stream",
          "name": "stdout",
          "text": [
            "Cloning into 'admission_dataset'...\n",
            "remote: Enumerating objects: 3, done.\u001b[K\n",
            "remote: Counting objects: 100% (3/3), done.\u001b[K\n",
            "remote: Compressing objects: 100% (3/3), done.\u001b[K\n",
            "remote: Total 3 (delta 0), reused 0 (delta 0), pack-reused 0 (from 0)\u001b[K\n",
            "Receiving objects: 100% (3/3), 5.60 KiB | 5.60 MiB/s, done.\n"
          ]
        }
      ],
      "source": [
        "!git clone https://github.com/education454/admission_dataset"
      ]
    },
    {
      "cell_type": "code",
      "execution_count": null,
      "metadata": {
        "colab": {
          "base_uri": "https://localhost:8080/"
        },
        "id": "EtFprdiANu1t",
        "outputId": "2cc56a51-788b-4d6e-cf58-e717b8bd4bbf"
      },
      "outputs": [
        {
          "output_type": "stream",
          "name": "stdout",
          "text": [
            "Admission_Predict_Ver1.1.csv\n"
          ]
        }
      ],
      "source": [
        "!ls admission_dataset"
      ]
    },
    {
      "cell_type": "code",
      "execution_count": null,
      "metadata": {
        "colab": {
          "base_uri": "https://localhost:8080/"
        },
        "id": "ceCEsHiEN2LG",
        "outputId": "e4078ba2-3e35-48d2-c726-216c014e1799"
      },
      "outputs": [
        {
          "output_type": "stream",
          "name": "stdout",
          "text": [
            "+---------+---------+-----------+-----------------+---+---+----+--------+---------------+\n",
            "|Serial No|GRE Score|TOEFL Score|University Rating|SOP|LOR|CGPA|Research|Chance of Admit|\n",
            "+---------+---------+-----------+-----------------+---+---+----+--------+---------------+\n",
            "|        1|      337|        118|                4|4.5|4.5|9.65|       1|           0.92|\n",
            "|        2|      324|        107|                4|4.0|4.5|8.87|       1|           0.76|\n",
            "|        3|      316|        104|                3|3.0|3.5| 8.0|       1|           0.72|\n",
            "|        4|      322|        110|                3|3.5|2.5|8.67|       1|            0.8|\n",
            "|        5|      314|        103|                2|2.0|3.0|8.21|       0|           0.65|\n",
            "|        6|      330|        115|                5|4.5|3.0|9.34|       1|            0.9|\n",
            "|        7|      321|        109|                3|3.0|4.0| 8.2|       1|           0.75|\n",
            "|        8|      308|        101|                2|3.0|4.0| 7.9|       0|           0.68|\n",
            "|        9|      302|        102|                1|2.0|1.5| 8.0|       0|            0.5|\n",
            "|       10|      323|        108|                3|3.5|3.0| 8.6|       0|           0.45|\n",
            "|       11|      325|        106|                3|3.5|4.0| 8.4|       1|           0.52|\n",
            "|       12|      327|        111|                4|4.0|4.5| 9.0|       1|           0.84|\n",
            "|       13|      328|        112|                4|4.0|4.5| 9.1|       1|           0.78|\n",
            "|       14|      307|        109|                3|4.0|3.0| 8.0|       1|           0.62|\n",
            "|       15|      311|        104|                3|3.5|2.0| 8.2|       1|           0.61|\n",
            "|       16|      314|        105|                3|3.5|2.5| 8.3|       0|           0.54|\n",
            "|       17|      317|        107|                3|4.0|3.0| 8.7|       0|           0.66|\n",
            "|       18|      319|        106|                3|4.0|3.0| 8.0|       1|           0.65|\n",
            "|       19|      318|        110|                3|4.0|3.0| 8.8|       0|           0.63|\n",
            "|       20|      303|        102|                3|3.5|3.0| 8.5|       0|           0.62|\n",
            "+---------+---------+-----------+-----------------+---+---+----+--------+---------------+\n",
            "only showing top 20 rows\n",
            "\n"
          ]
        }
      ],
      "source": [
        "df=spark.read.csv('/content/admission_dataset/Admission_Predict_Ver1.1.csv',header=True,inferSchema=True)\n",
        "df.show()"
      ]
    },
    {
      "cell_type": "code",
      "execution_count": null,
      "metadata": {
        "colab": {
          "base_uri": "https://localhost:8080/"
        },
        "id": "t7ytqK4ZOyVU",
        "outputId": "2e2bee8f-3556-44c2-fbdc-1b5a1e4a4b8e"
      },
      "outputs": [
        {
          "output_type": "stream",
          "name": "stdout",
          "text": [
            "(500, 9)\n"
          ]
        }
      ],
      "source": [
        "print((df.count(),len(df.columns)))"
      ]
    },
    {
      "cell_type": "code",
      "execution_count": null,
      "metadata": {
        "colab": {
          "base_uri": "https://localhost:8080/"
        },
        "id": "W45hbBIZP9I0",
        "outputId": "846819b6-43e1-4fd8-a7d8-46a38ba9f3fc"
      },
      "outputs": [
        {
          "output_type": "stream",
          "name": "stdout",
          "text": [
            "root\n",
            " |-- Serial No: integer (nullable = true)\n",
            " |-- GRE Score: integer (nullable = true)\n",
            " |-- TOEFL Score: integer (nullable = true)\n",
            " |-- University Rating: integer (nullable = true)\n",
            " |-- SOP: double (nullable = true)\n",
            " |-- LOR: double (nullable = true)\n",
            " |-- CGPA: double (nullable = true)\n",
            " |-- Research: integer (nullable = true)\n",
            " |-- Chance of Admit: double (nullable = true)\n",
            "\n"
          ]
        }
      ],
      "source": [
        "df.printSchema()"
      ]
    },
    {
      "cell_type": "code",
      "execution_count": null,
      "metadata": {
        "colab": {
          "base_uri": "https://localhost:8080/"
        },
        "id": "XcaT4DATQKoT",
        "outputId": "a784d733-1cd8-44d7-dbcb-27853f7fa16f"
      },
      "outputs": [
        {
          "output_type": "stream",
          "name": "stdout",
          "text": [
            "+-------+-----------------+------------------+-----------------+-----------------+------------------+------------------+------------------+------------------+-------------------+\n",
            "|summary|        Serial No|         GRE Score|      TOEFL Score|University Rating|               SOP|               LOR|              CGPA|          Research|    Chance of Admit|\n",
            "+-------+-----------------+------------------+-----------------+-----------------+------------------+------------------+------------------+------------------+-------------------+\n",
            "|  count|              500|               500|              500|              500|               500|               500|               500|               500|                500|\n",
            "|   mean|            250.5|           316.472|          107.192|            3.114|             3.374|             3.484| 8.576440000000003|              0.56| 0.7217399999999996|\n",
            "| stddev|144.4818327679989|11.295148372354712|6.081867659564538|1.143511800759815|0.9910036207566072|0.9254495738978191|0.6048128003332054|0.4968840786090358|0.14114040395030228|\n",
            "|    min|                1|               290|               92|                1|               1.0|               1.0|               6.8|                 0|               0.34|\n",
            "|    max|              500|               340|              120|                5|               5.0|               5.0|              9.92|                 1|               0.97|\n",
            "+-------+-----------------+------------------+-----------------+-----------------+------------------+------------------+------------------+------------------+-------------------+\n",
            "\n"
          ]
        }
      ],
      "source": [
        "df.describe().show()"
      ]
    },
    {
      "cell_type": "markdown",
      "metadata": {
        "id": "kKlpSRb8QoxF"
      },
      "source": [
        "**Data Cleaning**"
      ]
    },
    {
      "cell_type": "code",
      "execution_count": null,
      "metadata": {
        "colab": {
          "base_uri": "https://localhost:8080/"
        },
        "id": "6SdOujLwQsS9",
        "outputId": "365c88cb-ecd3-4997-87f2-615b409e9bfb"
      },
      "outputs": [
        {
          "output_type": "stream",
          "name": "stdout",
          "text": [
            "+---------+-----------+-----------------+---+---+----+--------+---------------+\n",
            "|GRE Score|TOEFL Score|University Rating|SOP|LOR|CGPA|Research|Chance of Admit|\n",
            "+---------+-----------+-----------------+---+---+----+--------+---------------+\n",
            "|      337|        118|                4|4.5|4.5|9.65|       1|           0.92|\n",
            "|      324|        107|                4|4.0|4.5|8.87|       1|           0.76|\n",
            "|      316|        104|                3|3.0|3.5| 8.0|       1|           0.72|\n",
            "|      322|        110|                3|3.5|2.5|8.67|       1|            0.8|\n",
            "|      314|        103|                2|2.0|3.0|8.21|       0|           0.65|\n",
            "|      330|        115|                5|4.5|3.0|9.34|       1|            0.9|\n",
            "|      321|        109|                3|3.0|4.0| 8.2|       1|           0.75|\n",
            "|      308|        101|                2|3.0|4.0| 7.9|       0|           0.68|\n",
            "|      302|        102|                1|2.0|1.5| 8.0|       0|            0.5|\n",
            "|      323|        108|                3|3.5|3.0| 8.6|       0|           0.45|\n",
            "|      325|        106|                3|3.5|4.0| 8.4|       1|           0.52|\n",
            "|      327|        111|                4|4.0|4.5| 9.0|       1|           0.84|\n",
            "|      328|        112|                4|4.0|4.5| 9.1|       1|           0.78|\n",
            "|      307|        109|                3|4.0|3.0| 8.0|       1|           0.62|\n",
            "|      311|        104|                3|3.5|2.0| 8.2|       1|           0.61|\n",
            "|      314|        105|                3|3.5|2.5| 8.3|       0|           0.54|\n",
            "|      317|        107|                3|4.0|3.0| 8.7|       0|           0.66|\n",
            "|      319|        106|                3|4.0|3.0| 8.0|       1|           0.65|\n",
            "|      318|        110|                3|4.0|3.0| 8.8|       0|           0.63|\n",
            "|      303|        102|                3|3.5|3.0| 8.5|       0|           0.62|\n",
            "+---------+-----------+-----------------+---+---+----+--------+---------------+\n",
            "only showing top 20 rows\n",
            "\n"
          ]
        }
      ],
      "source": [
        "df=df.drop('Serial No')\n",
        "df.show()"
      ]
    },
    {
      "cell_type": "code",
      "execution_count": null,
      "metadata": {
        "colab": {
          "base_uri": "https://localhost:8080/"
        },
        "id": "1Jf1IX2fRCh4",
        "outputId": "d7d99b37-8459-4d78-dbcd-c58dd7750455"
      },
      "outputs": [
        {
          "output_type": "stream",
          "name": "stdout",
          "text": [
            "GRE Score: 0\n",
            "TOEFL Score: 0\n",
            "University Rating: 0\n",
            "SOP: 0\n",
            "LOR: 0\n",
            "CGPA: 0\n",
            "Research: 0\n",
            "Chance of Admit: 0\n"
          ]
        }
      ],
      "source": [
        "for i in df.columns:\n",
        "  print(i+\":\",df[df[i].isNull()].count())"
      ]
    },
    {
      "cell_type": "code",
      "execution_count": null,
      "metadata": {
        "colab": {
          "base_uri": "https://localhost:8080/"
        },
        "id": "djov4v95RszO",
        "outputId": "42367ad1-6dfc-447e-9af6-c566974abe72"
      },
      "outputs": [
        {
          "output_type": "stream",
          "name": "stdout",
          "text": [
            "Correlation to chance of admit col for GRE Score is 0.8103506354632598\n",
            "Correlation to chance of admit col for TOEFL Score is 0.7922276143050823\n",
            "Correlation to chance of admit col for University Rating is 0.6901323687886892\n",
            "Correlation to chance of admit col for SOP is 0.6841365241316723\n",
            "Correlation to chance of admit col for LOR is 0.6453645135280112\n",
            "Correlation to chance of admit col for CGPA is 0.882412574904574\n",
            "Correlation to chance of admit col for Research is 0.5458710294711379\n",
            "Correlation to chance of admit col for Chance of Admit is 1.0\n"
          ]
        }
      ],
      "source": [
        "#correlation analysis\n",
        "for col in df.columns:\n",
        "  print(\"Correlation to chance of admit col for {} is {}\".format(col,df.stat.corr('Chance of Admit',col)))"
      ]
    },
    {
      "cell_type": "code",
      "execution_count": null,
      "metadata": {
        "colab": {
          "base_uri": "https://localhost:8080/"
        },
        "id": "-1kNRT7iSNN7",
        "outputId": "9a2fab5c-1627-4eae-d6fb-29c4adf7ea07"
      },
      "outputs": [
        {
          "output_type": "stream",
          "name": "stdout",
          "text": [
            "+---------+-----------+-----------------+---+---+----+--------+---------------+------------------+\n",
            "|GRE Score|TOEFL Score|University Rating|SOP|LOR|CGPA|Research|Chance of Admit|          features|\n",
            "+---------+-----------+-----------------+---+---+----+--------+---------------+------------------+\n",
            "|      337|        118|                4|4.5|4.5|9.65|       1|           0.92|[337.0,118.0,9.65]|\n",
            "|      324|        107|                4|4.0|4.5|8.87|       1|           0.76|[324.0,107.0,8.87]|\n",
            "|      316|        104|                3|3.0|3.5| 8.0|       1|           0.72| [316.0,104.0,8.0]|\n",
            "|      322|        110|                3|3.5|2.5|8.67|       1|            0.8|[322.0,110.0,8.67]|\n",
            "|      314|        103|                2|2.0|3.0|8.21|       0|           0.65|[314.0,103.0,8.21]|\n",
            "|      330|        115|                5|4.5|3.0|9.34|       1|            0.9|[330.0,115.0,9.34]|\n",
            "|      321|        109|                3|3.0|4.0| 8.2|       1|           0.75| [321.0,109.0,8.2]|\n",
            "|      308|        101|                2|3.0|4.0| 7.9|       0|           0.68| [308.0,101.0,7.9]|\n",
            "|      302|        102|                1|2.0|1.5| 8.0|       0|            0.5| [302.0,102.0,8.0]|\n",
            "|      323|        108|                3|3.5|3.0| 8.6|       0|           0.45| [323.0,108.0,8.6]|\n",
            "|      325|        106|                3|3.5|4.0| 8.4|       1|           0.52| [325.0,106.0,8.4]|\n",
            "|      327|        111|                4|4.0|4.5| 9.0|       1|           0.84| [327.0,111.0,9.0]|\n",
            "|      328|        112|                4|4.0|4.5| 9.1|       1|           0.78| [328.0,112.0,9.1]|\n",
            "|      307|        109|                3|4.0|3.0| 8.0|       1|           0.62| [307.0,109.0,8.0]|\n",
            "|      311|        104|                3|3.5|2.0| 8.2|       1|           0.61| [311.0,104.0,8.2]|\n",
            "|      314|        105|                3|3.5|2.5| 8.3|       0|           0.54| [314.0,105.0,8.3]|\n",
            "|      317|        107|                3|4.0|3.0| 8.7|       0|           0.66| [317.0,107.0,8.7]|\n",
            "|      319|        106|                3|4.0|3.0| 8.0|       1|           0.65| [319.0,106.0,8.0]|\n",
            "|      318|        110|                3|4.0|3.0| 8.8|       0|           0.63| [318.0,110.0,8.8]|\n",
            "|      303|        102|                3|3.5|3.0| 8.5|       0|           0.62| [303.0,102.0,8.5]|\n",
            "+---------+-----------+-----------------+---+---+----+--------+---------------+------------------+\n",
            "only showing top 20 rows\n",
            "\n"
          ]
        }
      ],
      "source": [
        "#feature selection\n",
        "from pyspark.ml.feature import VectorAssembler\n",
        "assembler=VectorAssembler(inputCols=['GRE Score','TOEFL Score','CGPA'],outputCol='features')\n",
        "output_data=assembler.transform(df)\n",
        "output_data.show()"
      ]
    },
    {
      "cell_type": "code",
      "execution_count": null,
      "metadata": {
        "colab": {
          "base_uri": "https://localhost:8080/"
        },
        "id": "SD7Da0N1V3kV",
        "outputId": "01d338bf-0037-44bc-9314-821a2ebe6ec8"
      },
      "outputs": [
        {
          "output_type": "stream",
          "name": "stdout",
          "text": [
            "+------------------+---------------+\n",
            "|          features|Chance of Admit|\n",
            "+------------------+---------------+\n",
            "|[337.0,118.0,9.65]|           0.92|\n",
            "|[324.0,107.0,8.87]|           0.76|\n",
            "| [316.0,104.0,8.0]|           0.72|\n",
            "|[322.0,110.0,8.67]|            0.8|\n",
            "|[314.0,103.0,8.21]|           0.65|\n",
            "|[330.0,115.0,9.34]|            0.9|\n",
            "| [321.0,109.0,8.2]|           0.75|\n",
            "| [308.0,101.0,7.9]|           0.68|\n",
            "| [302.0,102.0,8.0]|            0.5|\n",
            "| [323.0,108.0,8.6]|           0.45|\n",
            "| [325.0,106.0,8.4]|           0.52|\n",
            "| [327.0,111.0,9.0]|           0.84|\n",
            "| [328.0,112.0,9.1]|           0.78|\n",
            "| [307.0,109.0,8.0]|           0.62|\n",
            "| [311.0,104.0,8.2]|           0.61|\n",
            "| [314.0,105.0,8.3]|           0.54|\n",
            "| [317.0,107.0,8.7]|           0.66|\n",
            "| [319.0,106.0,8.0]|           0.65|\n",
            "| [318.0,110.0,8.8]|           0.63|\n",
            "| [303.0,102.0,8.5]|           0.62|\n",
            "+------------------+---------------+\n",
            "only showing top 20 rows\n",
            "\n"
          ]
        }
      ],
      "source": [
        "from pyspark.ml.regression import LinearRegression\n",
        "final_data=output_data.select('features','Chance of Admit')\n",
        "final_data.show()"
      ]
    },
    {
      "cell_type": "code",
      "execution_count": null,
      "metadata": {
        "colab": {
          "base_uri": "https://localhost:8080/"
        },
        "id": "LVR8_xPlWL5r",
        "outputId": "56a58cb1-d624-4c83-a113-a383d264ddab"
      },
      "outputs": [
        {
          "output_type": "stream",
          "name": "stdout",
          "text": [
            "+------------------+---------------+\n",
            "|          features|Chance of Admit|\n",
            "+------------------+---------------+\n",
            "|[290.0,100.0,7.56]|           0.47|\n",
            "|[290.0,104.0,7.46]|           0.45|\n",
            "|  [293.0,97.0,7.8]|           0.64|\n",
            "| [294.0,93.0,7.36]|           0.46|\n",
            "| [294.0,95.0,7.64]|           0.49|\n",
            "| [295.0,96.0,7.34]|           0.47|\n",
            "| [295.0,99.0,7.65]|           0.57|\n",
            "|[295.0,101.0,7.86]|           0.69|\n",
            "| [296.0,95.0,7.54]|           0.44|\n",
            "| [296.0,99.0,7.28]|           0.47|\n",
            "| [297.0,96.0,7.43]|           0.34|\n",
            "| [297.0,96.0,7.89]|           0.43|\n",
            "| [297.0,99.0,7.81]|           0.54|\n",
            "| [297.0,100.0,7.9]|           0.52|\n",
            "| [298.0,92.0,7.88]|           0.51|\n",
            "| [298.0,97.0,7.21]|           0.45|\n",
            "| [298.0,98.0,8.03]|           0.34|\n",
            "| [298.0,99.0,7.46]|           0.53|\n",
            "|  [298.0,99.0,7.6]|           0.46|\n",
            "|[298.0,100.0,7.95]|           0.58|\n",
            "+------------------+---------------+\n",
            "only showing top 20 rows\n",
            "\n"
          ]
        }
      ],
      "source": [
        "train,test=final_data.randomSplit([0.7,0.3])\n",
        "train.show()"
      ]
    },
    {
      "cell_type": "code",
      "execution_count": null,
      "metadata": {
        "id": "eJ33jLy8WRyN"
      },
      "outputs": [],
      "source": [
        "models=LinearRegression(featuresCol='features',labelCol='Chance of Admit')\n",
        "model=models.fit(train)"
      ]
    },
    {
      "cell_type": "code",
      "execution_count": null,
      "metadata": {
        "colab": {
          "base_uri": "https://localhost:8080/"
        },
        "id": "xPQfFChOWehs",
        "outputId": "752533df-5898-41c4-d31f-d50ebe11c441"
      },
      "outputs": [
        {
          "output_type": "stream",
          "name": "stdout",
          "text": [
            "coefficients: [0.0022444416573952834,0.0031615507809285297,0.1464682730515103]\n",
            "intercept: -1.5836878719633865\n"
          ]
        }
      ],
      "source": [
        "print(\"coefficients:\",model.coefficients)\n",
        "print(\"intercept:\",model.intercept)"
      ]
    },
    {
      "cell_type": "code",
      "execution_count": null,
      "metadata": {
        "colab": {
          "base_uri": "https://localhost:8080/"
        },
        "id": "LYS9-n3iW4oI",
        "outputId": "e9e8efd7-0d7f-47b6-d0b8-2180985c32e1"
      },
      "outputs": [
        {
          "output_type": "stream",
          "name": "stdout",
          "text": [
            "<pyspark.ml.regression.LinearRegressionTrainingSummary object at 0x7dc0929f6850>\n",
            "RMSE 0.061669873093829805\n",
            "r2 score 0.8126257642743152\n"
          ]
        }
      ],
      "source": [
        "summary=model.summary\n",
        "print(summary)\n",
        "print(\"RMSE\",summary.rootMeanSquaredError)\n",
        "print(\"r2 score\",summary.r2)"
      ]
    },
    {
      "cell_type": "code",
      "execution_count": null,
      "metadata": {
        "colab": {
          "base_uri": "https://localhost:8080/"
        },
        "id": "I4TTXB5yYLBy",
        "outputId": "86de66c1-572b-4976-f4e3-b9a433d0c7ff"
      },
      "outputs": [
        {
          "output_type": "stream",
          "name": "stdout",
          "text": [
            "+------------------+---------------+-------------------+\n",
            "|          features|Chance of Admit|         prediction|\n",
            "+------------------+---------------+-------------------+\n",
            "|  [295.0,93.0,7.2]|           0.46|0.42701820556544967|\n",
            "| [295.0,99.0,7.57]|           0.37| 0.5001807712800794|\n",
            "|  [296.0,97.0,7.8]|           0.49| 0.5297898141774653|\n",
            "| [296.0,99.0,8.03]|           0.61| 0.5698006185411695|\n",
            "|[296.0,101.0,7.68]|            0.6|  0.524859824534998|\n",
            "| [297.0,98.0,7.67]|           0.59| 0.5161549311190925|\n",
            "|[297.0,101.0,7.67]|           0.57| 0.5256395834618781|\n",
            "|  [298.0,98.0,7.5]|           0.44| 0.4934997663577312|\n",
            "|[298.0,105.0,8.54]|           0.69| 0.6679576257978013|\n",
            "| [299.0,97.0,7.66]|           0.38| 0.5160175809224399|\n",
            "|[299.0,100.0,7.42]|           0.42| 0.4903498477328625|\n",
            "|[299.0,100.0,7.88]|           0.51| 0.5577252533365573|\n",
            "|[299.0,100.0,7.89]|           0.59| 0.5591899360670725|\n",
            "|[299.0,102.0,8.62]|           0.56|  0.672434876956532|\n",
            "| [300.0,98.0,8.02]|           0.61| 0.5741521516593069|\n",
            "| [301.0,98.0,8.03]|           0.67| 0.5778612760472177|\n",
            "|[301.0,104.0,7.89]|           0.68| 0.5763250225055774|\n",
            "|[301.0,106.0,8.47]|           0.57| 0.6675997224373103|\n",
            "| [302.0,99.0,7.25]|           0.57|0.46902201550536327|\n",
            "| [302.0,99.0,7.45]|           0.52|0.49831567011566524|\n",
            "+------------------+---------------+-------------------+\n",
            "only showing top 20 rows\n",
            "\n"
          ]
        }
      ],
      "source": [
        "predictions=model.transform(test)\n",
        "predictions.show()"
      ]
    },
    {
      "cell_type": "code",
      "execution_count": null,
      "metadata": {
        "colab": {
          "base_uri": "https://localhost:8080/"
        },
        "id": "T7YnBi7GY3nA",
        "outputId": "84c0d16e-e499-469e-c6d5-8cae127b6c9c"
      },
      "outputs": [
        {
          "output_type": "stream",
          "name": "stdout",
          "text": [
            "r2 on test data 0.7833841513285122\n"
          ]
        }
      ],
      "source": [
        "from pyspark.ml.evaluation import RegressionEvaluator\n",
        "evaluator=RegressionEvaluator(predictionCol='prediction',labelCol='Chance of Admit',metricName='r2')\n",
        "print(\"r2 on test data\",evaluator.evaluate(predictions))"
      ]
    },
    {
      "cell_type": "code",
      "execution_count": null,
      "metadata": {
        "id": "jRRLZWERZMyX"
      },
      "outputs": [],
      "source": [
        "model.save(\"model\")\n",
        "from pyspark.ml.regression import LinearRegressionModel\n",
        "model=LinearRegressionModel.load('model')"
      ]
    },
    {
      "cell_type": "code",
      "source": [
        "import matplotlib.pyplot as plt\n",
        "\n",
        "# Convert Spark DataFrame to Pandas DataFrame for plotting\n",
        "pandas_df = df.toPandas()\n",
        "\n",
        "# Create the scatter plot\n",
        "plt.figure(figsize=(8, 6))\n",
        "plt.scatter(pandas_df['GRE Score'], pandas_df['Chance of Admit'])\n",
        "plt.xlabel('GRE Score')\n",
        "plt.ylabel('Chance of Admit')\n",
        "plt.title('GRE Score vs. Chance of Admit')\n",
        "plt.grid(True)\n",
        "plt.show()"
      ],
      "metadata": {
        "colab": {
          "base_uri": "https://localhost:8080/",
          "height": 564
        },
        "id": "xb0nLxBGHOGH",
        "outputId": "fec00319-1320-4ebb-8c49-9966112f4576"
      },
      "execution_count": null,
      "outputs": [
        {
          "output_type": "display_data",
          "data": {
            "text/plain": [
              "<Figure size 800x600 with 1 Axes>"
            ],
            "image/png": "[encoded data removed]"
          },
          "metadata": {}
        }
      ]
    }
  ],
  "metadata": {
    "colab": {
      "provenance": []
    },
    "kernelspec": {
      "display_name": "Python 3",
      "name": "python3"
    },
    "language_info": {
      "name": "python"
    }
  },
  "nbformat": 4,
  "nbformat_minor": 0
}